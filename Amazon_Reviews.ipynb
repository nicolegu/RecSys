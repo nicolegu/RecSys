{
 "cells": [
  {
   "cell_type": "code",
   "execution_count": null,
   "metadata": {},
   "outputs": [],
   "source": [
    "import urllib.request\n",
    "import gzip\n",
    "import json"
   ]
  },
  {
   "cell_type": "code",
   "execution_count": null,
   "metadata": {},
   "outputs": [],
   "source": [
    "def download_file(url):\n",
    "    \n",
    "    out_file = 'Amazon_Book_Reviews.jsonl'\n",
    "\n",
    "       # Download archive\n",
    "    try:\n",
    "         # Read the file inside the .gz archive located at url\n",
    "        with urllib.request.urlopen(url) as response:\n",
    "             with gzip.GzipFile(fileobj=response) as uncompressed:\n",
    "                  file_content = uncompressed.read()\n",
    "\n",
    "          # write to file in binary mode 'wb'\n",
    "        with open(out_file, 'wb') as f:\n",
    "             f.write(json.dumps(file_content, indent=1000))\n",
    "             return 0\n",
    "\n",
    "    except Exception as e:\n",
    "        print(e)\n",
    "        return 1"
   ]
  },
  {
   "cell_type": "code",
   "execution_count": null,
   "metadata": {},
   "outputs": [],
   "source": [
    "reval = download_file('https://datarepo.eng.ucsd.edu/mcauley_group/data/amazon_2023/raw/review_categories/Books.jsonl.gz')"
   ]
  },
  {
   "cell_type": "code",
   "execution_count": null,
   "metadata": {},
   "outputs": [],
   "source": [
    "import pandas as pd"
   ]
  },
  {
   "cell_type": "code",
   "execution_count": null,
   "metadata": {},
   "outputs": [],
   "source": [
    "def data_preprocessing(file):\n",
    "\n",
    "    data = []\n",
    "    \n",
    "    with open(file, 'r') as fp:\n",
    "        count = 0\n",
    "        for line in fp:\n",
    "            json_object = json.loads(line.strip())\n",
    "            #print(json_object)\n",
    "            data.append(json_object)\n",
    "            count += 1\n",
    "            if count > 9999:\n",
    "                break\n",
    "\n",
    "    df = pd.DataFrame(data)\n",
    "    print(df.head())\n",
    "    return df"
   ]
  },
  {
   "cell_type": "code",
   "execution_count": null,
   "metadata": {},
   "outputs": [],
   "source": [
    "df_review = data_preprocessing('Amazon_Book_Reviews.jsonl')"
   ]
  }
 ],
 "metadata": {
  "language_info": {
   "name": "python"
  }
 },
 "nbformat": 4,
 "nbformat_minor": 2
}
